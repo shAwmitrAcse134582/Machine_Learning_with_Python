{
 "cells": [
  {
   "cell_type": "code",
   "execution_count": 1,
   "id": "e89e1f01-2eaa-44b2-97fc-77d486a0b1fb",
   "metadata": {},
   "outputs": [],
   "source": [
    "import pandas as pd\n",
    "from matplotlib import pyplot as plt"
   ]
  },
  {
   "cell_type": "code",
   "execution_count": 4,
   "id": "9a1e096a-e72a-40f9-b578-f90c833ad091",
   "metadata": {},
   "outputs": [],
   "source": [
    "df = pd.read_csv(\"nasdaq100.csv\",sep=\";\")"
   ]
  },
  {
   "cell_type": "code",
   "execution_count": 5,
   "id": "e4ed0e2d-8914-4f21-a682-07d8c900a7a8",
   "metadata": {},
   "outputs": [
    {
     "data": {
      "text/html": [
       "<div>\n",
       "<style scoped>\n",
       "    .dataframe tbody tr th:only-of-type {\n",
       "        vertical-align: middle;\n",
       "    }\n",
       "\n",
       "    .dataframe tbody tr th {\n",
       "        vertical-align: top;\n",
       "    }\n",
       "\n",
       "    .dataframe thead th {\n",
       "        text-align: right;\n",
       "    }\n",
       "</style>\n",
       "<table border=\"1\" class=\"dataframe\">\n",
       "  <thead>\n",
       "    <tr style=\"text-align: right;\">\n",
       "      <th></th>\n",
       "      <th>Date</th>\n",
       "      <th>Starting (USD)</th>\n",
       "      <th>Ending (USD)</th>\n",
       "    </tr>\n",
       "  </thead>\n",
       "  <tbody>\n",
       "    <tr>\n",
       "      <th>0</th>\n",
       "      <td>01.01.24</td>\n",
       "      <td>16800</td>\n",
       "      <td>16500</td>\n",
       "    </tr>\n",
       "    <tr>\n",
       "      <th>1</th>\n",
       "      <td>01.12.23</td>\n",
       "      <td>15900</td>\n",
       "      <td>16100</td>\n",
       "    </tr>\n",
       "    <tr>\n",
       "      <th>2</th>\n",
       "      <td>01.11.23</td>\n",
       "      <td>15800</td>\n",
       "      <td>15300</td>\n",
       "    </tr>\n",
       "    <tr>\n",
       "      <th>3</th>\n",
       "      <td>01.10.23</td>\n",
       "      <td>16100</td>\n",
       "      <td>16200</td>\n",
       "    </tr>\n",
       "    <tr>\n",
       "      <th>4</th>\n",
       "      <td>01.09.23</td>\n",
       "      <td>16300</td>\n",
       "      <td>15700</td>\n",
       "    </tr>\n",
       "  </tbody>\n",
       "</table>\n",
       "</div>"
      ],
      "text/plain": [
       "       Date  Starting (USD)  Ending (USD)\n",
       "0  01.01.24           16800         16500\n",
       "1  01.12.23           15900         16100\n",
       "2  01.11.23           15800         15300\n",
       "3  01.10.23           16100         16200\n",
       "4  01.09.23           16300         15700"
      ]
     },
     "execution_count": 5,
     "metadata": {},
     "output_type": "execute_result"
    }
   ],
   "source": [
    "df.head()"
   ]
  },
  {
   "cell_type": "code",
   "execution_count": 6,
   "id": "7eeb121f-fcf4-4f49-a597-fee7e1858368",
   "metadata": {},
   "outputs": [
    {
     "data": {
      "text/plain": [
       "Date              0\n",
       "Starting (USD)    0\n",
       "Ending (USD)      0\n",
       "dtype: int64"
      ]
     },
     "execution_count": 6,
     "metadata": {},
     "output_type": "execute_result"
    }
   ],
   "source": [
    "df.isnull().sum()"
   ]
  },
  {
   "cell_type": "code",
   "execution_count": 8,
   "id": "8cfa31ad-d691-4bcd-9af1-7ca3fa9814e3",
   "metadata": {},
   "outputs": [],
   "source": [
    "df=df.drop(columns = ['Date'])"
   ]
  },
  {
   "cell_type": "code",
   "execution_count": 9,
   "id": "7280ac8b-6109-4881-ae40-d9338f71ccbe",
   "metadata": {},
   "outputs": [
    {
     "data": {
      "text/html": [
       "<div>\n",
       "<style scoped>\n",
       "    .dataframe tbody tr th:only-of-type {\n",
       "        vertical-align: middle;\n",
       "    }\n",
       "\n",
       "    .dataframe tbody tr th {\n",
       "        vertical-align: top;\n",
       "    }\n",
       "\n",
       "    .dataframe thead th {\n",
       "        text-align: right;\n",
       "    }\n",
       "</style>\n",
       "<table border=\"1\" class=\"dataframe\">\n",
       "  <thead>\n",
       "    <tr style=\"text-align: right;\">\n",
       "      <th></th>\n",
       "      <th>Starting (USD)</th>\n",
       "      <th>Ending (USD)</th>\n",
       "    </tr>\n",
       "  </thead>\n",
       "  <tbody>\n",
       "    <tr>\n",
       "      <th>0</th>\n",
       "      <td>16800</td>\n",
       "      <td>16500</td>\n",
       "    </tr>\n",
       "    <tr>\n",
       "      <th>1</th>\n",
       "      <td>15900</td>\n",
       "      <td>16100</td>\n",
       "    </tr>\n",
       "    <tr>\n",
       "      <th>2</th>\n",
       "      <td>15800</td>\n",
       "      <td>15300</td>\n",
       "    </tr>\n",
       "    <tr>\n",
       "      <th>3</th>\n",
       "      <td>16100</td>\n",
       "      <td>16200</td>\n",
       "    </tr>\n",
       "    <tr>\n",
       "      <th>4</th>\n",
       "      <td>16300</td>\n",
       "      <td>15700</td>\n",
       "    </tr>\n",
       "  </tbody>\n",
       "</table>\n",
       "</div>"
      ],
      "text/plain": [
       "   Starting (USD)  Ending (USD)\n",
       "0           16800         16500\n",
       "1           15900         16100\n",
       "2           15800         15300\n",
       "3           16100         16200\n",
       "4           16300         15700"
      ]
     },
     "execution_count": 9,
     "metadata": {},
     "output_type": "execute_result"
    }
   ],
   "source": [
    "df.head()"
   ]
  },
  {
   "cell_type": "code",
   "execution_count": 17,
   "id": "4817a1e7-5534-42ea-a5c6-c73de6cb5cac",
   "metadata": {},
   "outputs": [
    {
     "data": {
      "text/plain": [
       "Text(0.5, 1.0, 'NASDAQ100 Stock Prices')"
      ]
     },
     "execution_count": 17,
     "metadata": {},
     "output_type": "execute_result"
    },
    {
     "data": {
      "image/png": "[encoded data removed]",
      "text/plain": [
       "<Figure size 640x480 with 1 Axes>"
      ]
     },
     "metadata": {},
     "output_type": "display_data"
    }
   ],
   "source": [
    "plt.scatter(df['Starting (USD)'], df['Ending (USD)'])\n",
    "plt.xlabel('Starting (USD)')\n",
    "plt.ylabel('Ending (USD)')\n",
    "plt.title('NASDAQ100 Stock Prices')"
   ]
  },
  {
   "cell_type": "code",
   "execution_count": 19,
   "id": "823e6bcf-b9c7-4c49-a66c-01cced5524f7",
   "metadata": {},
   "outputs": [],
   "source": [
    "x = df.drop('Ending (USD)',axis=1)"
   ]
  },
  {
   "cell_type": "code",
   "execution_count": 20,
   "id": "75d46b8a-2adc-4f38-96f1-5b8456aca7f8",
   "metadata": {},
   "outputs": [
    {
     "data": {
      "text/html": [
       "<div>\n",
       "<style scoped>\n",
       "    .dataframe tbody tr th:only-of-type {\n",
       "        vertical-align: middle;\n",
       "    }\n",
       "\n",
       "    .dataframe tbody tr th {\n",
       "        vertical-align: top;\n",
       "    }\n",
       "\n",
       "    .dataframe thead th {\n",
       "        text-align: right;\n",
       "    }\n",
       "</style>\n",
       "<table border=\"1\" class=\"dataframe\">\n",
       "  <thead>\n",
       "    <tr style=\"text-align: right;\">\n",
       "      <th></th>\n",
       "      <th>Starting (USD)</th>\n",
       "    </tr>\n",
       "  </thead>\n",
       "  <tbody>\n",
       "    <tr>\n",
       "      <th>0</th>\n",
       "      <td>16800</td>\n",
       "    </tr>\n",
       "    <tr>\n",
       "      <th>1</th>\n",
       "      <td>15900</td>\n",
       "    </tr>\n",
       "    <tr>\n",
       "      <th>2</th>\n",
       "      <td>15800</td>\n",
       "    </tr>\n",
       "    <tr>\n",
       "      <th>3</th>\n",
       "      <td>16100</td>\n",
       "    </tr>\n",
       "    <tr>\n",
       "      <th>4</th>\n",
       "      <td>16300</td>\n",
       "    </tr>\n",
       "  </tbody>\n",
       "</table>\n",
       "</div>"
      ],
      "text/plain": [
       "   Starting (USD)\n",
       "0           16800\n",
       "1           15900\n",
       "2           15800\n",
       "3           16100\n",
       "4           16300"
      ]
     },
     "execution_count": 20,
     "metadata": {},
     "output_type": "execute_result"
    }
   ],
   "source": [
    "x.head()"
   ]
  },
  {
   "cell_type": "code",
   "execution_count": 23,
   "id": "f8e7d52f-3dc6-49a5-a7bd-a8137ea7f1fb",
   "metadata": {},
   "outputs": [
    {
     "data": {
      "text/html": [
       "<div>\n",
       "<style scoped>\n",
       "    .dataframe tbody tr th:only-of-type {\n",
       "        vertical-align: middle;\n",
       "    }\n",
       "\n",
       "    .dataframe tbody tr th {\n",
       "        vertical-align: top;\n",
       "    }\n",
       "\n",
       "    .dataframe thead th {\n",
       "        text-align: right;\n",
       "    }\n",
       "</style>\n",
       "<table border=\"1\" class=\"dataframe\">\n",
       "  <thead>\n",
       "    <tr style=\"text-align: right;\">\n",
       "      <th></th>\n",
       "      <th>Ending (USD)</th>\n",
       "    </tr>\n",
       "  </thead>\n",
       "  <tbody>\n",
       "    <tr>\n",
       "      <th>0</th>\n",
       "      <td>16500</td>\n",
       "    </tr>\n",
       "    <tr>\n",
       "      <th>1</th>\n",
       "      <td>16100</td>\n",
       "    </tr>\n",
       "    <tr>\n",
       "      <th>2</th>\n",
       "      <td>15300</td>\n",
       "    </tr>\n",
       "    <tr>\n",
       "      <th>3</th>\n",
       "      <td>16200</td>\n",
       "    </tr>\n",
       "    <tr>\n",
       "      <th>4</th>\n",
       "      <td>15700</td>\n",
       "    </tr>\n",
       "  </tbody>\n",
       "</table>\n",
       "</div>"
      ],
      "text/plain": [
       "   Ending (USD)\n",
       "0         16500\n",
       "1         16100\n",
       "2         15300\n",
       "3         16200\n",
       "4         15700"
      ]
     },
     "execution_count": 23,
     "metadata": {},
     "output_type": "execute_result"
    }
   ],
   "source": [
    "y = df[['Ending (USD)']]\n",
    "y.head()"
   ]
  },
  {
   "cell_type": "markdown",
   "id": "aa6cbba0-673d-49d0-9a37-ea9370473680",
   "metadata": {},
   "source": [
    "Linear Regression"
   ]
  },
  {
   "cell_type": "code",
   "execution_count": null,
   "id": "c5821bfb-6f61-46ce-b1aa-9d1ff833fac9",
   "metadata": {},
   "outputs": [],
   "source": [
    "from sklearn.linear_model import LinearRegression"
   ]
  },
  {
   "cell_type": "code",
   "execution_count": 33,
   "id": "127570ff-80cc-44c1-960d-97eb96563d0b",
   "metadata": {},
   "outputs": [
    {
     "ename": "NameError",
     "evalue": "name 'LinearRegression' is not defined",
     "output_type": "error",
     "traceback": [
      "\u001b[31m---------------------------------------------------------------------------\u001b[39m",
      "\u001b[31mNameError\u001b[39m                                 Traceback (most recent call last)",
      "\u001b[36mCell\u001b[39m\u001b[36m \u001b[39m\u001b[32mIn[33]\u001b[39m\u001b[32m, line 1\u001b[39m\n\u001b[32m----> \u001b[39m\u001b[32m1\u001b[39m reg = \u001b[43mLinearRegression\u001b[49m()\n",
      "\u001b[31mNameError\u001b[39m: name 'LinearRegression' is not defined"
     ]
    }
   ],
   "source": [
    "reg = LinearRegression()"
   ]
  },
  {
   "cell_type": "code",
   "execution_count": 24,
   "id": "c2492145-1f4e-4309-bc77-5a9c8e6aa110",
   "metadata": {},
   "outputs": [
    {
     "data": {
      "text/plain": [
       "Starting (USD)    16195.833333\n",
       "dtype: float64"
      ]
     },
     "execution_count": 24,
     "metadata": {},
     "output_type": "execute_result"
    }
   ],
   "source": [
    "x.mean()"
   ]
  },
  {
   "cell_type": "code",
   "execution_count": 25,
   "id": "0280e48e-e76a-4cd2-a7fe-7613e95c2c7a",
   "metadata": {},
   "outputs": [
    {
     "data": {
      "text/plain": [
       "Ending (USD)    15975.0\n",
       "dtype: float64"
      ]
     },
     "execution_count": 25,
     "metadata": {},
     "output_type": "execute_result"
    }
   ],
   "source": [
    "y.mean()"
   ]
  },
  {
   "cell_type": "code",
   "execution_count": 29,
   "id": "f3888d26-6e59-414e-96a3-f88b88811e1d",
   "metadata": {},
   "outputs": [
    {
     "data": {
      "text/plain": [
       "Text(0.5, 1.0, 'NASDAQ100 Stock Prices')"
      ]
     },
     "execution_count": 29,
     "metadata": {},
     "output_type": "execute_result"
    },
    {
     "data": {
      "image/png": "[encoded data removed]",
      "text/plain": [
       "<Figure size 640x480 with 1 Axes>"
      ]
     },
     "metadata": {},
     "output_type": "display_data"
    }
   ],
   "source": [
    "plt.scatter(x.mean(),y.mean(), color=\"red\")\n",
    "plt.scatter(df['Starting (USD)'], df['Ending (USD)'])\n",
    "plt.xlabel('Starting (USD)')\n",
    "plt.ylabel('Ending (USD)')\n",
    "plt.title('NASDAQ100 Stock Prices')"
   ]
  },
  {
   "cell_type": "code",
   "execution_count": 31,
   "id": "efd843cc-e50c-40a4-835f-46d48d891c1b",
   "metadata": {},
   "outputs": [
    {
     "ename": "NameError",
     "evalue": "name 'reg' is not defined",
     "output_type": "error",
     "traceback": [
      "\u001b[31m---------------------------------------------------------------------------\u001b[39m",
      "\u001b[31mNameError\u001b[39m                                 Traceback (most recent call last)",
      "\u001b[36mCell\u001b[39m\u001b[36m \u001b[39m\u001b[32mIn[31]\u001b[39m\u001b[32m, line 1\u001b[39m\n\u001b[32m----> \u001b[39m\u001b[32m1\u001b[39m \u001b[43mreg\u001b[49m.fit(x, y)\n",
      "\u001b[31mNameError\u001b[39m: name 'reg' is not defined"
     ]
    }
   ],
   "source": [
    "reg.fit(x, y)"
   ]
  },
  {
   "cell_type": "code",
   "execution_count": 34,
   "id": "75ae19bf-4b80-44a8-b582-bafbbb9c6190",
   "metadata": {},
   "outputs": [
    {
     "name": "stdout",
     "output_type": "stream",
     "text": [
      "Collecting scikit-learn\n",
      "  Downloading scikit_learn-1.6.1-cp313-cp313-win_amd64.whl.metadata (15 kB)\n",
      "Requirement already satisfied: numpy>=1.19.5 in c:\\users\\asus\\appdata\\local\\programs\\python\\python313\\lib\\site-packages (from scikit-learn) (2.2.0)\n",
      "Collecting scipy>=1.6.0 (from scikit-learn)\n",
      "  Downloading scipy-1.15.2-cp313-cp313-win_amd64.whl.metadata (60 kB)\n",
      "Collecting joblib>=1.2.0 (from scikit-learn)\n",
      "  Downloading joblib-1.4.2-py3-none-any.whl.metadata (5.4 kB)\n",
      "Collecting threadpoolctl>=3.1.0 (from scikit-learn)\n",
      "  Downloading threadpoolctl-3.6.0-py3-none-any.whl.metadata (13 kB)\n",
      "Downloading scikit_learn-1.6.1-cp313-cp313-win_amd64.whl (11.1 MB)\n",
      "   ---------------------------------------- 0.0/11.1 MB ? eta -:--:--\n",
      "    --------------------------------------- 0.3/11.1 MB ? eta -:--:--\n",
      "    --------------------------------------- 0.3/11.1 MB ? eta -:--:--\n",
      "   - -------------------------------------- 0.5/11.1 MB 937.3 kB/s eta 0:00:12\n",
      "   -- ------------------------------------- 0.8/11.1 MB 1.1 MB/s eta 0:00:09\n",
      "   ---- ----------------------------------- 1.3/11.1 MB 1.3 MB/s eta 0:00:08\n",
      "   ---- ----------------------------------- 1.3/11.1 MB 1.3 MB/s eta 0:00:08\n",
      "   ----- ---------------------------------- 1.6/11.1 MB 1.2 MB/s eta 0:00:08\n",
      "   ------ --------------------------------- 1.8/11.1 MB 1.2 MB/s eta 0:00:08\n",
      "   ------- -------------------------------- 2.1/11.1 MB 1.2 MB/s eta 0:00:08\n",
      "   -------- ------------------------------- 2.4/11.1 MB 1.2 MB/s eta 0:00:08\n",
      "   -------- ------------------------------- 2.4/11.1 MB 1.2 MB/s eta 0:00:08\n",
      "   --------- ------------------------------ 2.6/11.1 MB 1.1 MB/s eta 0:00:08\n",
      "   ---------- ----------------------------- 2.9/11.1 MB 1.1 MB/s eta 0:00:08\n",
      "   ----------- ---------------------------- 3.1/11.1 MB 1.1 MB/s eta 0:00:07\n",
      "   ------------ --------------------------- 3.4/11.1 MB 1.1 MB/s eta 0:00:07\n",
      "   ------------- -------------------------- 3.7/11.1 MB 1.2 MB/s eta 0:00:07\n",
      "   -------------- ------------------------- 3.9/11.1 MB 1.2 MB/s eta 0:00:07\n",
      "   --------------- ------------------------ 4.2/11.1 MB 1.2 MB/s eta 0:00:06\n",
      "   ---------------- ----------------------- 4.5/11.1 MB 1.2 MB/s eta 0:00:06\n",
      "   ----------------- ---------------------- 4.7/11.1 MB 1.2 MB/s eta 0:00:06\n",
      "   ----------------- ---------------------- 5.0/11.1 MB 1.2 MB/s eta 0:00:06\n",
      "   ------------------ --------------------- 5.2/11.1 MB 1.2 MB/s eta 0:00:05\n",
      "   ------------------- -------------------- 5.5/11.1 MB 1.2 MB/s eta 0:00:05\n",
      "   -------------------- ------------------- 5.8/11.1 MB 1.2 MB/s eta 0:00:05\n",
      "   --------------------- ------------------ 6.0/11.1 MB 1.2 MB/s eta 0:00:05\n",
      "   ---------------------- ----------------- 6.3/11.1 MB 1.2 MB/s eta 0:00:05\n",
      "   ----------------------- ---------------- 6.6/11.1 MB 1.2 MB/s eta 0:00:04\n",
      "   ------------------------ --------------- 6.8/11.1 MB 1.2 MB/s eta 0:00:04\n",
      "   ------------------------- -------------- 7.1/11.1 MB 1.2 MB/s eta 0:00:04\n",
      "   -------------------------- ------------- 7.3/11.1 MB 1.2 MB/s eta 0:00:04\n",
      "   --------------------------- ------------ 7.6/11.1 MB 1.2 MB/s eta 0:00:03\n",
      "   ---------------------------- ----------- 7.9/11.1 MB 1.2 MB/s eta 0:00:03\n",
      "   ---------------------------- ----------- 7.9/11.1 MB 1.2 MB/s eta 0:00:03\n",
      "   ------------------------------ --------- 8.4/11.1 MB 1.2 MB/s eta 0:00:03\n",
      "   ------------------------------ --------- 8.4/11.1 MB 1.2 MB/s eta 0:00:03\n",
      "   ------------------------------- -------- 8.7/11.1 MB 1.2 MB/s eta 0:00:03\n",
      "   -------------------------------- ------- 8.9/11.1 MB 1.2 MB/s eta 0:00:02\n",
      "   --------------------------------- ------ 9.2/11.1 MB 1.2 MB/s eta 0:00:02\n",
      "   ---------------------------------- ----- 9.4/11.1 MB 1.2 MB/s eta 0:00:02\n",
      "   ---------------------------------- ----- 9.4/11.1 MB 1.2 MB/s eta 0:00:02\n",
      "   ----------------------------------- ---- 9.7/11.1 MB 1.2 MB/s eta 0:00:02\n",
      "   ----------------------------------- ---- 10.0/11.1 MB 1.1 MB/s eta 0:00:01\n",
      "   ------------------------------------ --- 10.2/11.1 MB 1.1 MB/s eta 0:00:01\n",
      "   ------------------------------------ --- 10.2/11.1 MB 1.1 MB/s eta 0:00:01\n",
      "   ------------------------------------- -- 10.5/11.1 MB 1.1 MB/s eta 0:00:01\n",
      "   -------------------------------------- - 10.7/11.1 MB 1.1 MB/s eta 0:00:01\n",
      "   ---------------------------------------  11.0/11.1 MB 1.1 MB/s eta 0:00:01\n",
      "   ---------------------------------------- 11.1/11.1 MB 1.1 MB/s eta 0:00:00\n",
      "Downloading joblib-1.4.2-py3-none-any.whl (301 kB)\n",
      "Downloading scipy-1.15.2-cp313-cp313-win_amd64.whl (41.0 MB)\n",
      "   ---------------------------------------- 0.0/41.0 MB ? eta -:--:--\n",
      "   ---------------------------------------- 0.0/41.0 MB ? eta -:--:--\n",
      "   ---------------------------------------- 0.3/41.0 MB ? eta -:--:--\n",
      "    --------------------------------------- 0.5/41.0 MB 1.1 MB/s eta 0:00:36\n",
      "    --------------------------------------- 0.8/41.0 MB 1.0 MB/s eta 0:00:39\n",
      "    --------------------------------------- 0.8/41.0 MB 1.0 MB/s eta 0:00:39\n",
      "   - -------------------------------------- 1.0/41.0 MB 997.2 kB/s eta 0:00:41\n",
      "   - -------------------------------------- 1.3/41.0 MB 977.9 kB/s eta 0:00:41\n",
      "   - -------------------------------------- 1.6/41.0 MB 981.3 kB/s eta 0:00:41\n",
      "   - -------------------------------------- 1.8/41.0 MB 987.7 kB/s eta 0:00:40\n",
      "   -- ------------------------------------- 2.1/41.0 MB 1.0 MB/s eta 0:00:39\n",
      "   -- ------------------------------------- 2.1/41.0 MB 1.0 MB/s eta 0:00:39\n",
      "   -- ------------------------------------- 2.4/41.0 MB 1.0 MB/s eta 0:00:39\n",
      "   -- ------------------------------------- 2.6/41.0 MB 1.0 MB/s eta 0:00:38\n",
      "   -- ------------------------------------- 2.9/41.0 MB 1.0 MB/s eta 0:00:37\n",
      "   --- ------------------------------------ 3.1/41.0 MB 1.0 MB/s eta 0:00:37\n",
      "   --- ------------------------------------ 3.4/41.0 MB 1.1 MB/s eta 0:00:36\n",
      "   --- ------------------------------------ 3.7/41.0 MB 1.1 MB/s eta 0:00:36\n",
      "   --- ------------------------------------ 3.9/41.0 MB 1.1 MB/s eta 0:00:35\n",
      "   ---- ----------------------------------- 4.2/41.0 MB 1.1 MB/s eta 0:00:34\n",
      "   ---- ----------------------------------- 4.5/41.0 MB 1.1 MB/s eta 0:00:34\n",
      "   ---- ----------------------------------- 4.7/41.0 MB 1.1 MB/s eta 0:00:33\n",
      "   ---- ----------------------------------- 5.0/41.0 MB 1.1 MB/s eta 0:00:33\n",
      "   ----- ---------------------------------- 5.2/41.0 MB 1.1 MB/s eta 0:00:32\n",
      "   ----- ---------------------------------- 5.5/41.0 MB 1.1 MB/s eta 0:00:32\n",
      "   ----- ---------------------------------- 5.8/41.0 MB 1.1 MB/s eta 0:00:32\n",
      "   ----- ---------------------------------- 6.0/41.0 MB 1.1 MB/s eta 0:00:31\n",
      "   ------ --------------------------------- 6.3/41.0 MB 1.1 MB/s eta 0:00:31\n",
      "   ------ --------------------------------- 6.3/41.0 MB 1.1 MB/s eta 0:00:31\n",
      "   ------ --------------------------------- 6.6/41.0 MB 1.1 MB/s eta 0:00:31\n",
      "   ------ --------------------------------- 6.8/41.0 MB 1.1 MB/s eta 0:00:31\n",
      "   ------ --------------------------------- 7.1/41.0 MB 1.1 MB/s eta 0:00:31\n",
      "   ------- -------------------------------- 7.3/41.0 MB 1.1 MB/s eta 0:00:30\n",
      "   ------- -------------------------------- 7.6/41.0 MB 1.1 MB/s eta 0:00:30\n",
      "   ------- -------------------------------- 7.9/41.0 MB 1.1 MB/s eta 0:00:29\n",
      "   ------- -------------------------------- 8.1/41.0 MB 1.1 MB/s eta 0:00:29\n",
      "   -------- ------------------------------- 8.4/41.0 MB 1.1 MB/s eta 0:00:29\n",
      "   -------- ------------------------------- 8.7/41.0 MB 1.1 MB/s eta 0:00:29\n",
      "   -------- ------------------------------- 8.9/41.0 MB 1.1 MB/s eta 0:00:29\n",
      "   -------- ------------------------------- 9.2/41.0 MB 1.1 MB/s eta 0:00:28\n",
      "   --------- ------------------------------ 9.4/41.0 MB 1.1 MB/s eta 0:00:28\n",
      "   --------- ------------------------------ 9.4/41.0 MB 1.1 MB/s eta 0:00:28\n",
      "   --------- ------------------------------ 9.7/41.0 MB 1.1 MB/s eta 0:00:28\n",
      "   --------- ------------------------------ 10.0/41.0 MB 1.1 MB/s eta 0:00:28\n",
      "   --------- ------------------------------ 10.2/41.0 MB 1.1 MB/s eta 0:00:27\n",
      "   ---------- ----------------------------- 10.5/41.0 MB 1.1 MB/s eta 0:00:27\n",
      "   ---------- ----------------------------- 10.7/41.0 MB 1.1 MB/s eta 0:00:27\n",
      "   ---------- ----------------------------- 11.0/41.0 MB 1.1 MB/s eta 0:00:27\n",
      "   ----------- ---------------------------- 11.3/41.0 MB 1.2 MB/s eta 0:00:26\n",
      "   ----------- ---------------------------- 11.5/41.0 MB 1.2 MB/s eta 0:00:26\n",
      "   ----------- ---------------------------- 11.8/41.0 MB 1.2 MB/s eta 0:00:26\n",
      "   ----------- ---------------------------- 12.1/41.0 MB 1.2 MB/s eta 0:00:25\n",
      "   ------------ --------------------------- 12.3/41.0 MB 1.2 MB/s eta 0:00:25\n",
      "   ------------ --------------------------- 12.6/41.0 MB 1.2 MB/s eta 0:00:25\n",
      "   ------------ --------------------------- 12.8/41.0 MB 1.2 MB/s eta 0:00:25\n",
      "   ------------ --------------------------- 13.1/41.0 MB 1.2 MB/s eta 0:00:25\n",
      "   ------------- -------------------------- 13.4/41.0 MB 1.2 MB/s eta 0:00:24\n",
      "   ------------- -------------------------- 13.6/41.0 MB 1.2 MB/s eta 0:00:24\n",
      "   ------------- -------------------------- 13.9/41.0 MB 1.2 MB/s eta 0:00:24\n",
      "   ------------- -------------------------- 14.2/41.0 MB 1.2 MB/s eta 0:00:24\n",
      "   ------------- -------------------------- 14.2/41.0 MB 1.2 MB/s eta 0:00:24\n",
      "   -------------- ------------------------- 14.4/41.0 MB 1.2 MB/s eta 0:00:23\n",
      "   -------------- ------------------------- 14.7/41.0 MB 1.2 MB/s eta 0:00:23\n",
      "   -------------- ------------------------- 14.9/41.0 MB 1.1 MB/s eta 0:00:23\n",
      "   -------------- ------------------------- 14.9/41.0 MB 1.1 MB/s eta 0:00:23\n",
      "   -------------- ------------------------- 15.2/41.0 MB 1.1 MB/s eta 0:00:23\n",
      "   -------------- ------------------------- 15.2/41.0 MB 1.1 MB/s eta 0:00:23\n",
      "   --------------- ------------------------ 15.5/41.0 MB 1.1 MB/s eta 0:00:23\n",
      "   --------------- ------------------------ 15.5/41.0 MB 1.1 MB/s eta 0:00:23\n",
      "   --------------- ------------------------ 15.5/41.0 MB 1.1 MB/s eta 0:00:23\n",
      "   --------------- ------------------------ 15.7/41.0 MB 1.1 MB/s eta 0:00:24\n",
      "   --------------- ------------------------ 15.7/41.0 MB 1.1 MB/s eta 0:00:24\n",
      "   --------------- ------------------------ 15.7/41.0 MB 1.1 MB/s eta 0:00:24\n",
      "   --------------- ------------------------ 15.7/41.0 MB 1.1 MB/s eta 0:00:24\n",
      "   --------------- ------------------------ 15.7/41.0 MB 1.1 MB/s eta 0:00:24\n",
      "   --------------- ------------------------ 16.0/41.0 MB 1.0 MB/s eta 0:00:25\n",
      "   --------------- ------------------------ 16.0/41.0 MB 1.0 MB/s eta 0:00:25\n",
      "   --------------- ------------------------ 16.0/41.0 MB 1.0 MB/s eta 0:00:25\n",
      "   --------------- ------------------------ 16.0/41.0 MB 1.0 MB/s eta 0:00:25\n",
      "   --------------- ------------------------ 16.0/41.0 MB 1.0 MB/s eta 0:00:25\n",
      "   --------------- ------------------------ 16.0/41.0 MB 1.0 MB/s eta 0:00:25\n",
      "   --------------- ------------------------ 16.3/41.0 MB 969.0 kB/s eta 0:00:26\n",
      "   --------------- ------------------------ 16.3/41.0 MB 969.0 kB/s eta 0:00:26\n",
      "   --------------- ------------------------ 16.3/41.0 MB 969.0 kB/s eta 0:00:26\n",
      "   ---------------- ----------------------- 16.5/41.0 MB 939.1 kB/s eta 0:00:27\n",
      "   ---------------- ----------------------- 16.5/41.0 MB 939.1 kB/s eta 0:00:27\n",
      "   ---------------- ----------------------- 16.5/41.0 MB 939.1 kB/s eta 0:00:27\n",
      "   ---------------- ----------------------- 16.8/41.0 MB 921.7 kB/s eta 0:00:27\n",
      "   ---------------- ----------------------- 16.8/41.0 MB 921.7 kB/s eta 0:00:27\n",
      "   ---------------- ----------------------- 16.8/41.0 MB 921.7 kB/s eta 0:00:27\n",
      "   ---------------- ----------------------- 17.0/41.0 MB 910.4 kB/s eta 0:00:27\n",
      "   ---------------- ----------------------- 17.0/41.0 MB 910.4 kB/s eta 0:00:27\n",
      "   ---------------- ----------------------- 17.3/41.0 MB 902.9 kB/s eta 0:00:27\n",
      "   ---------------- ----------------------- 17.3/41.0 MB 902.9 kB/s eta 0:00:27\n",
      "   ----------------- ---------------------- 17.6/41.0 MB 897.0 kB/s eta 0:00:27\n",
      "   ----------------- ---------------------- 17.6/41.0 MB 897.0 kB/s eta 0:00:27\n",
      "   ----------------- ---------------------- 17.8/41.0 MB 893.8 kB/s eta 0:00:26\n",
      "   ----------------- ---------------------- 18.1/41.0 MB 890.8 kB/s eta 0:00:26\n",
      "   ----------------- ---------------------- 18.1/41.0 MB 890.8 kB/s eta 0:00:26\n",
      "   ----------------- ---------------------- 18.4/41.0 MB 889.1 kB/s eta 0:00:26\n",
      "   ------------------ --------------------- 18.6/41.0 MB 888.8 kB/s eta 0:00:26\n",
      "   ------------------ --------------------- 18.6/41.0 MB 888.8 kB/s eta 0:00:26\n",
      "   ------------------ --------------------- 18.9/41.0 MB 889.3 kB/s eta 0:00:25\n",
      "   ------------------ --------------------- 19.1/41.0 MB 889.1 kB/s eta 0:00:25\n",
      "   ------------------ --------------------- 19.4/41.0 MB 890.3 kB/s eta 0:00:25\n",
      "   ------------------ --------------------- 19.4/41.0 MB 890.3 kB/s eta 0:00:25\n",
      "   ------------------- -------------------- 19.7/41.0 MB 892.1 kB/s eta 0:00:24\n",
      "   ------------------- -------------------- 19.9/41.0 MB 894.3 kB/s eta 0:00:24\n",
      "   ------------------- -------------------- 20.2/41.0 MB 895.5 kB/s eta 0:00:24\n",
      "   ------------------- -------------------- 20.4/41.0 MB 896.9 kB/s eta 0:00:23\n",
      "   -------------------- ------------------- 20.7/41.0 MB 899.0 kB/s eta 0:00:23\n",
      "   -------------------- ------------------- 20.7/41.0 MB 899.0 kB/s eta 0:00:23\n",
      "   -------------------- ------------------- 21.0/41.0 MB 900.8 kB/s eta 0:00:23\n",
      "   -------------------- ------------------- 21.2/41.0 MB 903.0 kB/s eta 0:00:22\n",
      "   -------------------- ------------------- 21.5/41.0 MB 905.7 kB/s eta 0:00:22\n",
      "   --------------------- ------------------ 21.8/41.0 MB 909.1 kB/s eta 0:00:22\n",
      "   --------------------- ------------------ 22.0/41.0 MB 912.9 kB/s eta 0:00:21\n",
      "   --------------------- ------------------ 22.3/41.0 MB 914.2 kB/s eta 0:00:21\n",
      "   ---------------------- ----------------- 22.5/41.0 MB 916.7 kB/s eta 0:00:21\n",
      "   ---------------------- ----------------- 22.8/41.0 MB 916.5 kB/s eta 0:00:20\n",
      "   ---------------------- ----------------- 22.8/41.0 MB 916.5 kB/s eta 0:00:20\n",
      "   ---------------------- ----------------- 23.1/41.0 MB 915.0 kB/s eta 0:00:20\n",
      "   ---------------------- ----------------- 23.1/41.0 MB 915.0 kB/s eta 0:00:20\n",
      "   ---------------------- ----------------- 23.3/41.0 MB 910.2 kB/s eta 0:00:20\n",
      "   ---------------------- ----------------- 23.3/41.0 MB 910.2 kB/s eta 0:00:20\n",
      "   ---------------------- ----------------- 23.3/41.0 MB 910.2 kB/s eta 0:00:20\n",
      "   ---------------------- ----------------- 23.3/41.0 MB 910.2 kB/s eta 0:00:20\n",
      "   ----------------------- ---------------- 23.6/41.0 MB 890.0 kB/s eta 0:00:20\n",
      "   ----------------------- ---------------- 23.6/41.0 MB 890.0 kB/s eta 0:00:20\n",
      "   ----------------------- ---------------- 23.6/41.0 MB 890.0 kB/s eta 0:00:20\n",
      "   ----------------------- ---------------- 23.6/41.0 MB 890.0 kB/s eta 0:00:20\n",
      "   ----------------------- ---------------- 23.9/41.0 MB 872.7 kB/s eta 0:00:20\n",
      "   ----------------------- ---------------- 23.9/41.0 MB 872.7 kB/s eta 0:00:20\n",
      "   ----------------------- ---------------- 23.9/41.0 MB 872.7 kB/s eta 0:00:20\n",
      "   ----------------------- ---------------- 24.1/41.0 MB 861.4 kB/s eta 0:00:20\n",
      "   ----------------------- ---------------- 24.1/41.0 MB 861.4 kB/s eta 0:00:20\n",
      "   ----------------------- ---------------- 24.1/41.0 MB 861.4 kB/s eta 0:00:20\n",
      "   ----------------------- ---------------- 24.1/41.0 MB 861.4 kB/s eta 0:00:20\n",
      "   ----------------------- ---------------- 24.4/41.0 MB 845.3 kB/s eta 0:00:20\n",
      "   ----------------------- ---------------- 24.4/41.0 MB 845.3 kB/s eta 0:00:20\n",
      "   ----------------------- ---------------- 24.4/41.0 MB 845.3 kB/s eta 0:00:20\n",
      "   ------------------------ --------------- 24.6/41.0 MB 835.5 kB/s eta 0:00:20\n",
      "   ------------------------ --------------- 24.6/41.0 MB 835.5 kB/s eta 0:00:20\n",
      "   ------------------------ --------------- 24.9/41.0 MB 830.1 kB/s eta 0:00:20\n",
      "   ------------------------ --------------- 24.9/41.0 MB 830.1 kB/s eta 0:00:20\n",
      "   ------------------------ --------------- 25.2/41.0 MB 823.8 kB/s eta 0:00:20\n",
      "   ------------------------ --------------- 25.2/41.0 MB 823.8 kB/s eta 0:00:20\n",
      "   ------------------------ --------------- 25.4/41.0 MB 818.4 kB/s eta 0:00:19\n",
      "   ------------------------ --------------- 25.4/41.0 MB 818.4 kB/s eta 0:00:19\n",
      "   ------------------------- -------------- 25.7/41.0 MB 815.4 kB/s eta 0:00:19\n",
      "   ------------------------- -------------- 25.7/41.0 MB 815.4 kB/s eta 0:00:19\n",
      "   ------------------------- -------------- 26.0/41.0 MB 813.3 kB/s eta 0:00:19\n",
      "   ------------------------- -------------- 26.2/41.0 MB 809.0 kB/s eta 0:00:19\n",
      "   ------------------------- -------------- 26.2/41.0 MB 809.0 kB/s eta 0:00:19\n",
      "   ------------------------- -------------- 26.2/41.0 MB 809.0 kB/s eta 0:00:19\n",
      "   ------------------------- -------------- 26.2/41.0 MB 809.0 kB/s eta 0:00:19\n",
      "   ------------------------- -------------- 26.5/41.0 MB 789.4 kB/s eta 0:00:19\n",
      "   ------------------------- -------------- 26.5/41.0 MB 789.4 kB/s eta 0:00:19\n",
      "   ------------------------- -------------- 26.5/41.0 MB 789.4 kB/s eta 0:00:19\n",
      "   -------------------------- ------------- 26.7/41.0 MB 773.7 kB/s eta 0:00:19\n",
      "   -------------------------- ------------- 26.7/41.0 MB 773.7 kB/s eta 0:00:19\n",
      "   -------------------------- ------------- 26.7/41.0 MB 773.7 kB/s eta 0:00:19\n",
      "   -------------------------- ------------- 27.0/41.0 MB 755.5 kB/s eta 0:00:19\n",
      "   -------------------------- ------------- 27.0/41.0 MB 755.5 kB/s eta 0:00:19\n",
      "   -------------------------- ------------- 27.0/41.0 MB 755.5 kB/s eta 0:00:19\n",
      "   -------------------------- ------------- 27.0/41.0 MB 755.5 kB/s eta 0:00:19\n",
      "   -------------------------- ------------- 27.3/41.0 MB 727.4 kB/s eta 0:00:19\n",
      "   -------------------------- ------------- 27.3/41.0 MB 727.4 kB/s eta 0:00:19\n",
      "   -------------------------- ------------- 27.3/41.0 MB 727.4 kB/s eta 0:00:19\n",
      "   -------------------------- ------------- 27.3/41.0 MB 727.4 kB/s eta 0:00:19\n",
      "   -------------------------- ------------- 27.5/41.0 MB 703.6 kB/s eta 0:00:20\n",
      "   -------------------------- ------------- 27.5/41.0 MB 703.6 kB/s eta 0:00:20\n",
      "   -------------------------- ------------- 27.5/41.0 MB 703.6 kB/s eta 0:00:20\n",
      "   --------------------------- ------------ 27.8/41.0 MB 685.2 kB/s eta 0:00:20\n",
      "   --------------------------- ------------ 27.8/41.0 MB 685.2 kB/s eta 0:00:20\n",
      "   --------------------------- ------------ 28.0/41.0 MB 674.4 kB/s eta 0:00:20\n",
      "   --------------------------- ------------ 28.0/41.0 MB 674.4 kB/s eta 0:00:20\n",
      "   --------------------------- ------------ 28.0/41.0 MB 674.4 kB/s eta 0:00:20\n",
      "   --------------------------- ------------ 28.3/41.0 MB 665.3 kB/s eta 0:00:20\n",
      "   --------------------------- ------------ 28.3/41.0 MB 665.3 kB/s eta 0:00:20\n",
      "   --------------------------- ------------ 28.6/41.0 MB 655.8 kB/s eta 0:00:19\n",
      "   --------------------------- ------------ 28.6/41.0 MB 655.8 kB/s eta 0:00:19\n",
      "   --------------------------- ------------ 28.6/41.0 MB 655.8 kB/s eta 0:00:19\n",
      "   ---------------------------- ----------- 28.8/41.0 MB 639.8 kB/s eta 0:00:19\n",
      "   ---------------------------- ----------- 28.8/41.0 MB 639.8 kB/s eta 0:00:19\n",
      "   ---------------------------- ----------- 29.1/41.0 MB 638.1 kB/s eta 0:00:19\n",
      "   ---------------------------- ----------- 29.4/41.0 MB 632.3 kB/s eta 0:00:19\n",
      "   ---------------------------- ----------- 29.6/41.0 MB 630.3 kB/s eta 0:00:18\n",
      "   ---------------------------- ----------- 29.6/41.0 MB 630.3 kB/s eta 0:00:18\n",
      "   ----------------------------- ---------- 29.9/41.0 MB 623.5 kB/s eta 0:00:18\n",
      "   ----------------------------- ---------- 29.9/41.0 MB 623.5 kB/s eta 0:00:18\n",
      "   ----------------------------- ---------- 30.1/41.0 MB 615.8 kB/s eta 0:00:18\n",
      "   ----------------------------- ---------- 30.4/41.0 MB 613.8 kB/s eta 0:00:18\n",
      "   ----------------------------- ---------- 30.4/41.0 MB 613.8 kB/s eta 0:00:18\n",
      "   ----------------------------- ---------- 30.7/41.0 MB 611.9 kB/s eta 0:00:17\n",
      "   ----------------------------- ---------- 30.7/41.0 MB 611.9 kB/s eta 0:00:17\n",
      "   ------------------------------ --------- 30.9/41.0 MB 604.5 kB/s eta 0:00:17\n",
      "   ------------------------------ --------- 31.2/41.0 MB 597.7 kB/s eta 0:00:17\n",
      "   ------------------------------ --------- 31.2/41.0 MB 597.7 kB/s eta 0:00:17\n",
      "   ------------------------------ --------- 31.5/41.0 MB 595.8 kB/s eta 0:00:16\n",
      "   ------------------------------ --------- 31.5/41.0 MB 595.8 kB/s eta 0:00:16\n",
      "   ------------------------------ --------- 31.7/41.0 MB 588.1 kB/s eta 0:00:16\n",
      "   ------------------------------- -------- 32.0/41.0 MB 581.2 kB/s eta 0:00:16\n",
      "   ------------------------------- -------- 32.0/41.0 MB 581.2 kB/s eta 0:00:16\n",
      "   ------------------------------- -------- 32.2/41.0 MB 580.4 kB/s eta 0:00:16\n",
      "   ------------------------------- -------- 32.2/41.0 MB 580.4 kB/s eta 0:00:16\n",
      "   ------------------------------- -------- 32.5/41.0 MB 579.9 kB/s eta 0:00:15\n",
      "   ------------------------------- -------- 32.8/41.0 MB 581.3 kB/s eta 0:00:15\n",
      "   ------------------------------- -------- 32.8/41.0 MB 581.3 kB/s eta 0:00:15\n",
      "   -------------------------------- ------- 33.0/41.0 MB 586.5 kB/s eta 0:00:14\n",
      "   -------------------------------- ------- 33.0/41.0 MB 586.5 kB/s eta 0:00:14\n",
      "   -------------------------------- ------- 33.3/41.0 MB 588.4 kB/s eta 0:00:14\n",
      "   -------------------------------- ------- 33.6/41.0 MB 607.6 kB/s eta 0:00:13\n",
      "   --------------------------------- ------ 33.8/41.0 MB 611.0 kB/s eta 0:00:12\n",
      "   --------------------------------- ------ 34.1/41.0 MB 614.6 kB/s eta 0:00:12\n",
      "   --------------------------------- ------ 34.1/41.0 MB 614.6 kB/s eta 0:00:12\n",
      "   --------------------------------- ------ 34.3/41.0 MB 618.1 kB/s eta 0:00:11\n",
      "   --------------------------------- ------ 34.6/41.0 MB 621.8 kB/s eta 0:00:11\n",
      "   ---------------------------------- ----- 34.9/41.0 MB 640.4 kB/s eta 0:00:10\n",
      "   ---------------------------------- ----- 35.1/41.0 MB 644.1 kB/s eta 0:00:10\n",
      "   ---------------------------------- ----- 35.4/41.0 MB 648.0 kB/s eta 0:00:09\n",
      "   ---------------------------------- ----- 35.4/41.0 MB 648.0 kB/s eta 0:00:09\n",
      "   ---------------------------------- ----- 35.4/41.0 MB 648.0 kB/s eta 0:00:09\n",
      "   ---------------------------------- ----- 35.7/41.0 MB 654.2 kB/s eta 0:00:09\n",
      "   ---------------------------------- ----- 35.7/41.0 MB 654.2 kB/s eta 0:00:09\n",
      "   ----------------------------------- ---- 35.9/41.0 MB 653.0 kB/s eta 0:00:08\n",
      "   ----------------------------------- ---- 35.9/41.0 MB 653.0 kB/s eta 0:00:08\n",
      "   ----------------------------------- ---- 36.2/41.0 MB 656.6 kB/s eta 0:00:08\n",
      "   ----------------------------------- ---- 36.4/41.0 MB 659.6 kB/s eta 0:00:07\n",
      "   ----------------------------------- ---- 36.7/41.0 MB 666.2 kB/s eta 0:00:07\n",
      "   ------------------------------------ --- 37.0/41.0 MB 670.5 kB/s eta 0:00:06\n",
      "   ------------------------------------ --- 37.2/41.0 MB 674.9 kB/s eta 0:00:06\n",
      "   ------------------------------------ --- 37.5/41.0 MB 680.4 kB/s eta 0:00:06\n",
      "   ------------------------------------ --- 37.5/41.0 MB 680.4 kB/s eta 0:00:06\n",
      "   ------------------------------------- -- 38.0/41.0 MB 688.7 kB/s eta 0:00:05\n",
      "   ------------------------------------- -- 38.0/41.0 MB 688.7 kB/s eta 0:00:05\n",
      "   ------------------------------------- -- 38.3/41.0 MB 691.3 kB/s eta 0:00:04\n",
      "   ------------------------------------- -- 38.5/41.0 MB 694.4 kB/s eta 0:00:04\n",
      "   ------------------------------------- -- 38.8/41.0 MB 697.8 kB/s eta 0:00:04\n",
      "   -------------------------------------- - 39.1/41.0 MB 701.3 kB/s eta 0:00:03\n",
      "   -------------------------------------- - 39.3/41.0 MB 704.3 kB/s eta 0:00:03\n",
      "   -------------------------------------- - 39.6/41.0 MB 708.4 kB/s eta 0:00:02\n",
      "   -------------------------------------- - 39.8/41.0 MB 710.0 kB/s eta 0:00:02\n",
      "   ---------------------------------------  40.1/41.0 MB 710.3 kB/s eta 0:00:02\n",
      "   ---------------------------------------  40.4/41.0 MB 711.6 kB/s eta 0:00:01\n",
      "   ---------------------------------------  40.4/41.0 MB 711.6 kB/s eta 0:00:01\n",
      "   ---------------------------------------  40.6/41.0 MB 712.3 kB/s eta 0:00:01\n",
      "   ---------------------------------------  40.9/41.0 MB 712.7 kB/s eta 0:00:01\n",
      "   ---------------------------------------- 41.0/41.0 MB 704.4 kB/s eta 0:00:00\n",
      "Downloading threadpoolctl-3.6.0-py3-none-any.whl (18 kB)\n",
      "Installing collected packages: threadpoolctl, scipy, joblib, scikit-learn\n",
      "Successfully installed joblib-1.4.2 scikit-learn-1.6.1 scipy-1.15.2 threadpoolctl-3.6.0\n",
      "Note: you may need to restart the kernel to use updated packages.\n"
     ]
    },
    {
     "name": "stderr",
     "output_type": "stream",
     "text": [
      "\n",
      "[notice] A new release of pip is available: 24.3.1 -> 25.0.1\n",
      "[notice] To update, run: python.exe -m pip install --upgrade pip\n"
     ]
    }
   ],
   "source": [
    "pip install scikit-learn\n"
   ]
  },
  {
   "cell_type": "code",
   "execution_count": null,
   "id": "828ac36c-ebe8-40fd-8dab-25b059cd5460",
   "metadata": {},
   "outputs": [],
   "source": [
    "from sklearn.linear_model import LinearRegression"
   ]
  },
  {
   "cell_type": "code",
   "execution_count": null,
   "id": "9eaddf49-1622-4f9c-a5d1-85b119f44223",
   "metadata": {},
   "outputs": [],
   "source": [
    "reg = LinearRegression()"
   ]
  },
  {
   "cell_type": "code",
   "execution_count": 38,
   "id": "3069e806-4dd8-45de-aa1d-40282bcfe1e3",
   "metadata": {},
   "outputs": [
    {
     "ename": "NameError",
     "evalue": "name 'reg' is not defined",
     "output_type": "error",
     "traceback": [
      "\u001b[31m---------------------------------------------------------------------------\u001b[39m",
      "\u001b[31mNameError\u001b[39m                                 Traceback (most recent call last)",
      "\u001b[36mCell\u001b[39m\u001b[36m \u001b[39m\u001b[32mIn[38]\u001b[39m\u001b[32m, line 1\u001b[39m\n\u001b[32m----> \u001b[39m\u001b[32m1\u001b[39m \u001b[43mreg\u001b[49m.fit(x,y)\n",
      "\u001b[31mNameError\u001b[39m: name 'reg' is not defined"
     ]
    }
   ],
   "source": [
    "reg.fit(x,y)"
   ]
  },
  {
   "cell_type": "code",
   "execution_count": 36,
   "id": "9d738e26-b301-4cc4-a35f-169d3ca55767",
   "metadata": {},
   "outputs": [
    {
     "name": "stdout",
     "output_type": "stream",
     "text": [
      "Requirement already satisfied: scikit-learn in c:\\users\\asus\\appdata\\local\\programs\\python\\python313\\lib\\site-packages (1.6.1)\n",
      "Requirement already satisfied: numpy>=1.19.5 in c:\\users\\asus\\appdata\\local\\programs\\python\\python313\\lib\\site-packages (from scikit-learn) (2.2.0)\n",
      "Requirement already satisfied: scipy>=1.6.0 in c:\\users\\asus\\appdata\\local\\programs\\python\\python313\\lib\\site-packages (from scikit-learn) (1.15.2)\n",
      "Requirement already satisfied: joblib>=1.2.0 in c:\\users\\asus\\appdata\\local\\programs\\python\\python313\\lib\\site-packages (from scikit-learn) (1.4.2)\n",
      "Requirement already satisfied: threadpoolctl>=3.1.0 in c:\\users\\asus\\appdata\\local\\programs\\python\\python313\\lib\\site-packages (from scikit-learn) (3.6.0)\n",
      "Note: you may need to restart the kernel to use updated packages.\n"
     ]
    },
    {
     "name": "stderr",
     "output_type": "stream",
     "text": [
      "\n",
      "[notice] A new release of pip is available: 24.3.1 -> 25.0.1\n",
      "[notice] To update, run: python.exe -m pip install --upgrade pip\n"
     ]
    }
   ],
   "source": [
    "pip install --upgrade scikit-learn"
   ]
  },
  {
   "cell_type": "code",
   "execution_count": 37,
   "id": "7fdd5e45-e8ec-4462-a081-213898ba3e62",
   "metadata": {},
   "outputs": [
    {
     "ename": "_IncompleteInputError",
     "evalue": "incomplete input (1716930736.py, line 2)",
     "output_type": "error",
     "traceback": [
      "  \u001b[36mCell\u001b[39m\u001b[36m \u001b[39m\u001b[32mIn[37]\u001b[39m\u001b[32m, line 2\u001b[39m\n\u001b[31m    \u001b[39m\u001b[31mprint(dir(sklearn.linear_model)\u001b[39m\n                                   ^\n\u001b[31m_IncompleteInputError\u001b[39m\u001b[31m:\u001b[39m incomplete input\n"
     ]
    }
   ],
   "source": [
    "import sklearn.linear_model\n",
    "print(dir(sklearn.linear_model)"
   ]
  },
  {
   "cell_type": "code",
   "execution_count": 39,
   "id": "30fdd880-64b9-41ac-a785-f7594f556327",
   "metadata": {},
   "outputs": [
    {
     "ename": "NameError",
     "evalue": "name 'LinearRegression' is not defined",
     "output_type": "error",
     "traceback": [
      "\u001b[31m---------------------------------------------------------------------------\u001b[39m",
      "\u001b[31mNameError\u001b[39m                                 Traceback (most recent call last)",
      "\u001b[36mCell\u001b[39m\u001b[36m \u001b[39m\u001b[32mIn[39]\u001b[39m\u001b[32m, line 1\u001b[39m\n\u001b[32m----> \u001b[39m\u001b[32m1\u001b[39m \u001b[38;5;28mprint\u001b[39m(\u001b[43mLinearRegression\u001b[49m)\n",
      "\u001b[31mNameError\u001b[39m: name 'LinearRegression' is not defined"
     ]
    }
   ],
   "source": [
    "print(LinearRegression)"
   ]
  },
  {
   "cell_type": "code",
   "execution_count": 40,
   "id": "273a8048-2d59-4331-8470-c770c1e06393",
   "metadata": {},
   "outputs": [
    {
     "name": "stdout",
     "output_type": "stream",
     "text": [
      "Success!\n"
     ]
    }
   ],
   "source": [
    "from sklearn.linear_model import LinearRegression\n",
    "reg = LinearRegression()\n",
    "print(\"Success!\")\n"
   ]
  },
  {
   "cell_type": "code",
   "execution_count": 41,
   "id": "3a2a0680-f6f8-4199-b55e-6fe8f3019b9d",
   "metadata": {},
   "outputs": [
    {
     "data": {
      "text/html": [
       "<style>#sk-container-id-1 {\n",
       "  /* Definition of color scheme common for light and dark mode */\n",
       "  --sklearn-color-text: #000;\n",
       "  --sklearn-color-text-muted: #666;\n",
       "  --sklearn-color-line: gray;\n",
       "  /* Definition of color scheme for unfitted estimators */\n",
       "  --sklearn-color-unfitted-level-0: #fff5e6;\n",
       "  --sklearn-color-unfitted-level-1: #f6e4d2;\n",
       "  --sklearn-color-unfitted-level-2: #ffe0b3;\n",
       "  --sklearn-color-unfitted-level-3: chocolate;\n",
       "  /* Definition of color scheme for fitted estimators */\n",
       "  --sklearn-color-fitted-level-0: #f0f8ff;\n",
       "  --sklearn-color-fitted-level-1: #d4ebff;\n",
       "  --sklearn-color-fitted-level-2: #b3dbfd;\n",
       "  --sklearn-color-fitted-level-3: cornflowerblue;\n",
       "\n",
       "  /* Specific color for light theme */\n",
       "  --sklearn-color-text-on-default-background: var(--sg-text-color, var(--theme-code-foreground, var(--jp-content-font-color1, black)));\n",
       "  --sklearn-color-background: var(--sg-background-color, var(--theme-background, var(--jp-layout-color0, white)));\n",
       "  --sklearn-color-border-box: var(--sg-text-color, var(--theme-code-foreground, var(--jp-content-font-color1, black)));\n",
       "  --sklearn-color-icon: #696969;\n",
       "\n",
       "  @media (prefers-color-scheme: dark) {\n",
       "    /* Redefinition of color scheme for dark theme */\n",
       "    --sklearn-color-text-on-default-background: var(--sg-text-color, var(--theme-code-foreground, var(--jp-content-font-color1, white)));\n",
       "    --sklearn-color-background: var(--sg-background-color, var(--theme-background, var(--jp-layout-color0, #111)));\n",
       "    --sklearn-color-border-box: var(--sg-text-color, var(--theme-code-foreground, var(--jp-content-font-color1, white)));\n",
       "    --sklearn-color-icon: #878787;\n",
       "  }\n",
       "}\n",
       "\n",
       "#sk-container-id-1 {\n",
       "  color: var(--sklearn-color-text);\n",
       "}\n",
       "\n",
       "#sk-container-id-1 pre {\n",
       "  padding: 0;\n",
       "}\n",
       "\n",
       "#sk-container-id-1 input.sk-hidden--visually {\n",
       "  border: 0;\n",
       "  clip: rect(1px 1px 1px 1px);\n",
       "  clip: rect(1px, 1px, 1px, 1px);\n",
       "  height: 1px;\n",
       "  margin: -1px;\n",
       "  overflow: hidden;\n",
       "  padding: 0;\n",
       "  position: absolute;\n",
       "  width: 1px;\n",
       "}\n",
       "\n",
       "#sk-container-id-1 div.sk-dashed-wrapped {\n",
       "  border: 1px dashed var(--sklearn-color-line);\n",
       "  margin: 0 0.4em 0.5em 0.4em;\n",
       "  box-sizing: border-box;\n",
       "  padding-bottom: 0.4em;\n",
       "  background-color: var(--sklearn-color-background);\n",
       "}\n",
       "\n",
       "#sk-container-id-1 div.sk-container {\n",
       "  /* jupyter's `normalize.less` sets `[hidden] { display: none; }`\n",
       "     but bootstrap.min.css set `[hidden] { display: none !important; }`\n",
       "     so we also need the `!important` here to be able to override the\n",
       "     default hidden behavior on the sphinx rendered scikit-learn.org.\n",
       "     See: https://github.com/scikit-learn/scikit-learn/issues/21755 */\n",
       "  display: inline-block !important;\n",
       "  position: relative;\n",
       "}\n",
       "\n",
       "#sk-container-id-1 div.sk-text-repr-fallback {\n",
       "  display: none;\n",
       "}\n",
       "\n",
       "div.sk-parallel-item,\n",
       "div.sk-serial,\n",
       "div.sk-item {\n",
       "  /* draw centered vertical line to link estimators */\n",
       "  background-image: linear-gradient(var(--sklearn-color-text-on-default-background), var(--sklearn-color-text-on-default-background));\n",
       "  background-size: 2px 100%;\n",
       "  background-repeat: no-repeat;\n",
       "  background-position: center center;\n",
       "}\n",
       "\n",
       "/* Parallel-specific style estimator block */\n",
       "\n",
       "#sk-container-id-1 div.sk-parallel-item::after {\n",
       "  content: \"\";\n",
       "  width: 100%;\n",
       "  border-bottom: 2px solid var(--sklearn-color-text-on-default-background);\n",
       "  flex-grow: 1;\n",
       "}\n",
       "\n",
       "#sk-container-id-1 div.sk-parallel {\n",
       "  display: flex;\n",
       "  align-items: stretch;\n",
       "  justify-content: center;\n",
       "  background-color: var(--sklearn-color-background);\n",
       "  position: relative;\n",
       "}\n",
       "\n",
       "#sk-container-id-1 div.sk-parallel-item {\n",
       "  display: flex;\n",
       "  flex-direction: column;\n",
       "}\n",
       "\n",
       "#sk-container-id-1 div.sk-parallel-item:first-child::after {\n",
       "  align-self: flex-end;\n",
       "  width: 50%;\n",
       "}\n",
       "\n",
       "#sk-container-id-1 div.sk-parallel-item:last-child::after {\n",
       "  align-self: flex-start;\n",
       "  width: 50%;\n",
       "}\n",
       "\n",
       "#sk-container-id-1 div.sk-parallel-item:only-child::after {\n",
       "  width: 0;\n",
       "}\n",
       "\n",
       "/* Serial-specific style estimator block */\n",
       "\n",
       "#sk-container-id-1 div.sk-serial {\n",
       "  display: flex;\n",
       "  flex-direction: column;\n",
       "  align-items: center;\n",
       "  background-color: var(--sklearn-color-background);\n",
       "  padding-right: 1em;\n",
       "  padding-left: 1em;\n",
       "}\n",
       "\n",
       "\n",
       "/* Toggleable style: style used for estimator/Pipeline/ColumnTransformer box that is\n",
       "clickable and can be expanded/collapsed.\n",
       "- Pipeline and ColumnTransformer use this feature and define the default style\n",
       "- Estimators will overwrite some part of the style using the `sk-estimator` class\n",
       "*/\n",
       "\n",
       "/* Pipeline and ColumnTransformer style (default) */\n",
       "\n",
       "#sk-container-id-1 div.sk-toggleable {\n",
       "  /* Default theme specific background. It is overwritten whether we have a\n",
       "  specific estimator or a Pipeline/ColumnTransformer */\n",
       "  background-color: var(--sklearn-color-background);\n",
       "}\n",
       "\n",
       "/* Toggleable label */\n",
       "#sk-container-id-1 label.sk-toggleable__label {\n",
       "  cursor: pointer;\n",
       "  display: flex;\n",
       "  width: 100%;\n",
       "  margin-bottom: 0;\n",
       "  padding: 0.5em;\n",
       "  box-sizing: border-box;\n",
       "  text-align: center;\n",
       "  align-items: start;\n",
       "  justify-content: space-between;\n",
       "  gap: 0.5em;\n",
       "}\n",
       "\n",
       "#sk-container-id-1 label.sk-toggleable__label .caption {\n",
       "  font-size: 0.6rem;\n",
       "  font-weight: lighter;\n",
       "  color: var(--sklearn-color-text-muted);\n",
       "}\n",
       "\n",
       "#sk-container-id-1 label.sk-toggleable__label-arrow:before {\n",
       "  /* Arrow on the left of the label */\n",
       "  content: \"▸\";\n",
       "  float: left;\n",
       "  margin-right: 0.25em;\n",
       "  color: var(--sklearn-color-icon);\n",
       "}\n",
       "\n",
       "#sk-container-id-1 label.sk-toggleable__label-arrow:hover:before {\n",
       "  color: var(--sklearn-color-text);\n",
       "}\n",
       "\n",
       "/* Toggleable content - dropdown */\n",
       "\n",
       "#sk-container-id-1 div.sk-toggleable__content {\n",
       "  max-height: 0;\n",
       "  max-width: 0;\n",
       "  overflow: hidden;\n",
       "  text-align: left;\n",
       "  /* unfitted */\n",
       "  background-color: var(--sklearn-color-unfitted-level-0);\n",
       "}\n",
       "\n",
       "#sk-container-id-1 div.sk-toggleable__content.fitted {\n",
       "  /* fitted */\n",
       "  background-color: var(--sklearn-color-fitted-level-0);\n",
       "}\n",
       "\n",
       "#sk-container-id-1 div.sk-toggleable__content pre {\n",
       "  margin: 0.2em;\n",
       "  border-radius: 0.25em;\n",
       "  color: var(--sklearn-color-text);\n",
       "  /* unfitted */\n",
       "  background-color: var(--sklearn-color-unfitted-level-0);\n",
       "}\n",
       "\n",
       "#sk-container-id-1 div.sk-toggleable__content.fitted pre {\n",
       "  /* unfitted */\n",
       "  background-color: var(--sklearn-color-fitted-level-0);\n",
       "}\n",
       "\n",
       "#sk-container-id-1 input.sk-toggleable__control:checked~div.sk-toggleable__content {\n",
       "  /* Expand drop-down */\n",
       "  max-height: 200px;\n",
       "  max-width: 100%;\n",
       "  overflow: auto;\n",
       "}\n",
       "\n",
       "#sk-container-id-1 input.sk-toggleable__control:checked~label.sk-toggleable__label-arrow:before {\n",
       "  content: \"▾\";\n",
       "}\n",
       "\n",
       "/* Pipeline/ColumnTransformer-specific style */\n",
       "\n",
       "#sk-container-id-1 div.sk-label input.sk-toggleable__control:checked~label.sk-toggleable__label {\n",
       "  color: var(--sklearn-color-text);\n",
       "  background-color: var(--sklearn-color-unfitted-level-2);\n",
       "}\n",
       "\n",
       "#sk-container-id-1 div.sk-label.fitted input.sk-toggleable__control:checked~label.sk-toggleable__label {\n",
       "  background-color: var(--sklearn-color-fitted-level-2);\n",
       "}\n",
       "\n",
       "/* Estimator-specific style */\n",
       "\n",
       "/* Colorize estimator box */\n",
       "#sk-container-id-1 div.sk-estimator input.sk-toggleable__control:checked~label.sk-toggleable__label {\n",
       "  /* unfitted */\n",
       "  background-color: var(--sklearn-color-unfitted-level-2);\n",
       "}\n",
       "\n",
       "#sk-container-id-1 div.sk-estimator.fitted input.sk-toggleable__control:checked~label.sk-toggleable__label {\n",
       "  /* fitted */\n",
       "  background-color: var(--sklearn-color-fitted-level-2);\n",
       "}\n",
       "\n",
       "#sk-container-id-1 div.sk-label label.sk-toggleable__label,\n",
       "#sk-container-id-1 div.sk-label label {\n",
       "  /* The background is the default theme color */\n",
       "  color: var(--sklearn-color-text-on-default-background);\n",
       "}\n",
       "\n",
       "/* On hover, darken the color of the background */\n",
       "#sk-container-id-1 div.sk-label:hover label.sk-toggleable__label {\n",
       "  color: var(--sklearn-color-text);\n",
       "  background-color: var(--sklearn-color-unfitted-level-2);\n",
       "}\n",
       "\n",
       "/* Label box, darken color on hover, fitted */\n",
       "#sk-container-id-1 div.sk-label.fitted:hover label.sk-toggleable__label.fitted {\n",
       "  color: var(--sklearn-color-text);\n",
       "  background-color: var(--sklearn-color-fitted-level-2);\n",
       "}\n",
       "\n",
       "/* Estimator label */\n",
       "\n",
       "#sk-container-id-1 div.sk-label label {\n",
       "  font-family: monospace;\n",
       "  font-weight: bold;\n",
       "  display: inline-block;\n",
       "  line-height: 1.2em;\n",
       "}\n",
       "\n",
       "#sk-container-id-1 div.sk-label-container {\n",
       "  text-align: center;\n",
       "}\n",
       "\n",
       "/* Estimator-specific */\n",
       "#sk-container-id-1 div.sk-estimator {\n",
       "  font-family: monospace;\n",
       "  border: 1px dotted var(--sklearn-color-border-box);\n",
       "  border-radius: 0.25em;\n",
       "  box-sizing: border-box;\n",
       "  margin-bottom: 0.5em;\n",
       "  /* unfitted */\n",
       "  background-color: var(--sklearn-color-unfitted-level-0);\n",
       "}\n",
       "\n",
       "#sk-container-id-1 div.sk-estimator.fitted {\n",
       "  /* fitted */\n",
       "  background-color: var(--sklearn-color-fitted-level-0);\n",
       "}\n",
       "\n",
       "/* on hover */\n",
       "#sk-container-id-1 div.sk-estimator:hover {\n",
       "  /* unfitted */\n",
       "  background-color: var(--sklearn-color-unfitted-level-2);\n",
       "}\n",
       "\n",
       "#sk-container-id-1 div.sk-estimator.fitted:hover {\n",
       "  /* fitted */\n",
       "  background-color: var(--sklearn-color-fitted-level-2);\n",
       "}\n",
       "\n",
       "/* Specification for estimator info (e.g. \"i\" and \"?\") */\n",
       "\n",
       "/* Common style for \"i\" and \"?\" */\n",
       "\n",
       ".sk-estimator-doc-link,\n",
       "a:link.sk-estimator-doc-link,\n",
       "a:visited.sk-estimator-doc-link {\n",
       "  float: right;\n",
       "  font-size: smaller;\n",
       "  line-height: 1em;\n",
       "  font-family: monospace;\n",
       "  background-color: var(--sklearn-color-background);\n",
       "  border-radius: 1em;\n",
       "  height: 1em;\n",
       "  width: 1em;\n",
       "  text-decoration: none !important;\n",
       "  margin-left: 0.5em;\n",
       "  text-align: center;\n",
       "  /* unfitted */\n",
       "  border: var(--sklearn-color-unfitted-level-1) 1pt solid;\n",
       "  color: var(--sklearn-color-unfitted-level-1);\n",
       "}\n",
       "\n",
       ".sk-estimator-doc-link.fitted,\n",
       "a:link.sk-estimator-doc-link.fitted,\n",
       "a:visited.sk-estimator-doc-link.fitted {\n",
       "  /* fitted */\n",
       "  border: var(--sklearn-color-fitted-level-1) 1pt solid;\n",
       "  color: var(--sklearn-color-fitted-level-1);\n",
       "}\n",
       "\n",
       "/* On hover */\n",
       "div.sk-estimator:hover .sk-estimator-doc-link:hover,\n",
       ".sk-estimator-doc-link:hover,\n",
       "div.sk-label-container:hover .sk-estimator-doc-link:hover,\n",
       ".sk-estimator-doc-link:hover {\n",
       "  /* unfitted */\n",
       "  background-color: var(--sklearn-color-unfitted-level-3);\n",
       "  color: var(--sklearn-color-background);\n",
       "  text-decoration: none;\n",
       "}\n",
       "\n",
       "div.sk-estimator.fitted:hover .sk-estimator-doc-link.fitted:hover,\n",
       ".sk-estimator-doc-link.fitted:hover,\n",
       "div.sk-label-container:hover .sk-estimator-doc-link.fitted:hover,\n",
       ".sk-estimator-doc-link.fitted:hover {\n",
       "  /* fitted */\n",
       "  background-color: var(--sklearn-color-fitted-level-3);\n",
       "  color: var(--sklearn-color-background);\n",
       "  text-decoration: none;\n",
       "}\n",
       "\n",
       "/* Span, style for the box shown on hovering the info icon */\n",
       ".sk-estimator-doc-link span {\n",
       "  display: none;\n",
       "  z-index: 9999;\n",
       "  position: relative;\n",
       "  font-weight: normal;\n",
       "  right: .2ex;\n",
       "  padding: .5ex;\n",
       "  margin: .5ex;\n",
       "  width: min-content;\n",
       "  min-width: 20ex;\n",
       "  max-width: 50ex;\n",
       "  color: var(--sklearn-color-text);\n",
       "  box-shadow: 2pt 2pt 4pt #999;\n",
       "  /* unfitted */\n",
       "  background: var(--sklearn-color-unfitted-level-0);\n",
       "  border: .5pt solid var(--sklearn-color-unfitted-level-3);\n",
       "}\n",
       "\n",
       ".sk-estimator-doc-link.fitted span {\n",
       "  /* fitted */\n",
       "  background: var(--sklearn-color-fitted-level-0);\n",
       "  border: var(--sklearn-color-fitted-level-3);\n",
       "}\n",
       "\n",
       ".sk-estimator-doc-link:hover span {\n",
       "  display: block;\n",
       "}\n",
       "\n",
       "/* \"?\"-specific style due to the `<a>` HTML tag */\n",
       "\n",
       "#sk-container-id-1 a.estimator_doc_link {\n",
       "  float: right;\n",
       "  font-size: 1rem;\n",
       "  line-height: 1em;\n",
       "  font-family: monospace;\n",
       "  background-color: var(--sklearn-color-background);\n",
       "  border-radius: 1rem;\n",
       "  height: 1rem;\n",
       "  width: 1rem;\n",
       "  text-decoration: none;\n",
       "  /* unfitted */\n",
       "  color: var(--sklearn-color-unfitted-level-1);\n",
       "  border: var(--sklearn-color-unfitted-level-1) 1pt solid;\n",
       "}\n",
       "\n",
       "#sk-container-id-1 a.estimator_doc_link.fitted {\n",
       "  /* fitted */\n",
       "  border: var(--sklearn-color-fitted-level-1) 1pt solid;\n",
       "  color: var(--sklearn-color-fitted-level-1);\n",
       "}\n",
       "\n",
       "/* On hover */\n",
       "#sk-container-id-1 a.estimator_doc_link:hover {\n",
       "  /* unfitted */\n",
       "  background-color: var(--sklearn-color-unfitted-level-3);\n",
       "  color: var(--sklearn-color-background);\n",
       "  text-decoration: none;\n",
       "}\n",
       "\n",
       "#sk-container-id-1 a.estimator_doc_link.fitted:hover {\n",
       "  /* fitted */\n",
       "  background-color: var(--sklearn-color-fitted-level-3);\n",
       "}\n",
       "</style><div id=\"sk-container-id-1\" class=\"sk-top-container\"><div class=\"sk-text-repr-fallback\"><pre>LinearRegression()</pre><b>In a Jupyter environment, please rerun this cell to show the HTML representation or trust the notebook. <br />On GitHub, the HTML representation is unable to render, please try loading this page with nbviewer.org.</b></div><div class=\"sk-container\" hidden><div class=\"sk-item\"><div class=\"sk-estimator fitted sk-toggleable\"><input class=\"sk-toggleable__control sk-hidden--visually\" id=\"sk-estimator-id-1\" type=\"checkbox\" checked><label for=\"sk-estimator-id-1\" class=\"sk-toggleable__label fitted sk-toggleable__label-arrow\"><div><div>LinearRegression</div></div><div><a class=\"sk-estimator-doc-link fitted\" rel=\"noreferrer\" target=\"_blank\" href=\"https://scikit-learn.org/1.6/modules/generated/sklearn.linear_model.LinearRegression.html\">?<span>Documentation for LinearRegression</span></a><span class=\"sk-estimator-doc-link fitted\">i<span>Fitted</span></span></div></label><div class=\"sk-toggleable__content fitted\"><pre>LinearRegression()</pre></div> </div></div></div></div>"
      ],
      "text/plain": [
       "LinearRegression()"
      ]
     },
     "execution_count": 41,
     "metadata": {},
     "output_type": "execute_result"
    }
   ],
   "source": [
    "reg.fit(x,y)"
   ]
  },
  {
   "cell_type": "code",
   "execution_count": 42,
   "id": "e784e4fb-831d-4673-af80-fc17f97b1636",
   "metadata": {},
   "outputs": [
    {
     "data": {
      "text/plain": [
       "array([[0.65258293]])"
      ]
     },
     "execution_count": 42,
     "metadata": {},
     "output_type": "execute_result"
    }
   ],
   "source": [
    "m = reg.coef_\n",
    "m"
   ]
  },
  {
   "cell_type": "code",
   "execution_count": 46,
   "id": "ef28aefb-46e4-4501-ab4c-0b5a3ff1ea6c",
   "metadata": {},
   "outputs": [
    {
     "data": {
      "text/plain": [
       "array([5405.87555702])"
      ]
     },
     "execution_count": 46,
     "metadata": {},
     "output_type": "execute_result"
    }
   ],
   "source": [
    "c = reg.intercept_\n",
    "c"
   ]
  },
  {
   "cell_type": "code",
   "execution_count": null,
   "id": "03612bcc-42ba-4c49-a869-a61dfa7d16de",
   "metadata": {},
   "outputs": [],
   "source": [
    "#y = mx + c"
   ]
  },
  {
   "cell_type": "code",
   "execution_count": 45,
   "id": "744a4025-e901-4670-b452-cfbd6b887819",
   "metadata": {},
   "outputs": [
    {
     "ename": "NameError",
     "evalue": "name 'm' is not defined",
     "output_type": "error",
     "traceback": [
      "\u001b[31m---------------------------------------------------------------------------\u001b[39m",
      "\u001b[31mNameError\u001b[39m                                 Traceback (most recent call last)",
      "\u001b[36mCell\u001b[39m\u001b[36m \u001b[39m\u001b[32mIn[45]\u001b[39m\u001b[32m, line 1\u001b[39m\n\u001b[32m----> \u001b[39m\u001b[32m1\u001b[39m \u001b[43mm\u001b[49m*\u001b[32m16700\u001b[39m + c\n",
      "\u001b[31mNameError\u001b[39m: name 'm' is not defined"
     ]
    }
   ],
   "source": [
    "m*16700 + c"
   ]
  },
  {
   "cell_type": "code",
   "execution_count": null,
   "id": "f40fd228-3413-43de-a279-2cc8448f2f0f",
   "metadata": {},
   "outputs": [],
   "source": [
    "m = reg.coef_\n",
    "m"
   ]
  },
  {
   "cell_type": "code",
   "execution_count": null,
   "id": "1df9199f-4952-4c1c-9da6-72f9d79a4150",
   "metadata": {},
   "outputs": [],
   "source": [
    "c = reg.intercept_\n",
    "c"
   ]
  },
  {
   "cell_type": "code",
   "execution_count": 48,
   "id": "5f2d85df-4a77-491f-ab48-15ba96720c0a",
   "metadata": {},
   "outputs": [
    {
     "ename": "NameError",
     "evalue": "name 'm' is not defined",
     "output_type": "error",
     "traceback": [
      "\u001b[31m---------------------------------------------------------------------------\u001b[39m",
      "\u001b[31mNameError\u001b[39m                                 Traceback (most recent call last)",
      "\u001b[36mCell\u001b[39m\u001b[36m \u001b[39m\u001b[32mIn[48]\u001b[39m\u001b[32m, line 1\u001b[39m\n\u001b[32m----> \u001b[39m\u001b[32m1\u001b[39m \u001b[43mm\u001b[49m * \u001b[32m16700\u001b[39m + c\n",
      "\u001b[31mNameError\u001b[39m: name 'm' is not defined"
     ]
    }
   ],
   "source": [
    "m * 16700 + c"
   ]
  },
  {
   "cell_type": "code",
   "execution_count": 49,
   "id": "738485ac-3a9f-49bd-ad6b-1b01e535db0c",
   "metadata": {},
   "outputs": [
    {
     "ename": "NameError",
     "evalue": "name 'm' is not defined",
     "output_type": "error",
     "traceback": [
      "\u001b[31m---------------------------------------------------------------------------\u001b[39m",
      "\u001b[31mNameError\u001b[39m                                 Traceback (most recent call last)",
      "\u001b[36mCell\u001b[39m\u001b[36m \u001b[39m\u001b[32mIn[49]\u001b[39m\u001b[32m, line 1\u001b[39m\n\u001b[32m----> \u001b[39m\u001b[32m1\u001b[39m \u001b[38;5;28mprint\u001b[39m(\u001b[43mm\u001b[49m * \u001b[32m16700\u001b[39m + c)\n",
      "\u001b[31mNameError\u001b[39m: name 'm' is not defined"
     ]
    }
   ],
   "source": [
    "print(m * 16700 + c)"
   ]
  },
  {
   "cell_type": "code",
   "execution_count": 51,
   "id": "09a61bd2-8234-405c-96f7-d987bf524754",
   "metadata": {},
   "outputs": [],
   "source": [
    "import numpy as np"
   ]
  },
  {
   "cell_type": "code",
   "execution_count": 52,
   "id": "6ab46469-fee7-4738-9d6d-ef413bdf7fe3",
   "metadata": {},
   "outputs": [
    {
     "ename": "NameError",
     "evalue": "name 'm' is not defined",
     "output_type": "error",
     "traceback": [
      "\u001b[31m---------------------------------------------------------------------------\u001b[39m",
      "\u001b[31mNameError\u001b[39m                                 Traceback (most recent call last)",
      "\u001b[36mCell\u001b[39m\u001b[36m \u001b[39m\u001b[32mIn[52]\u001b[39m\u001b[32m, line 1\u001b[39m\n\u001b[32m----> \u001b[39m\u001b[32m1\u001b[39m \u001b[38;5;28mprint\u001b[39m(\u001b[43mm\u001b[49m * \u001b[32m16700\u001b[39m + c)\n",
      "\u001b[31mNameError\u001b[39m: name 'm' is not defined"
     ]
    }
   ],
   "source": [
    "print(m * 16700 + c)"
   ]
  },
  {
   "cell_type": "code",
   "execution_count": 53,
   "id": "a1ace885-73be-4d35-9c5a-a5a3bd3eac98",
   "metadata": {},
   "outputs": [
    {
     "name": "stderr",
     "output_type": "stream",
     "text": [
      "C:\\Users\\Asus\\AppData\\Local\\Programs\\Python\\Python313\\Lib\\site-packages\\sklearn\\utils\\validation.py:2739: UserWarning: X does not have valid feature names, but LinearRegression was fitted with feature names\n",
      "  warnings.warn(\n"
     ]
    },
    {
     "ename": "ValueError",
     "evalue": "Expected 2D array, got scalar array instead:\narray=16700.\nReshape your data either using array.reshape(-1, 1) if your data has a single feature or array.reshape(1, -1) if it contains a single sample.",
     "output_type": "error",
     "traceback": [
      "\u001b[31m---------------------------------------------------------------------------\u001b[39m",
      "\u001b[31mValueError\u001b[39m                                Traceback (most recent call last)",
      "\u001b[36mCell\u001b[39m\u001b[36m \u001b[39m\u001b[32mIn[53]\u001b[39m\u001b[32m, line 1\u001b[39m\n\u001b[32m----> \u001b[39m\u001b[32m1\u001b[39m \u001b[43mreg\u001b[49m\u001b[43m.\u001b[49m\u001b[43mpredict\u001b[49m\u001b[43m(\u001b[49m\u001b[43m(\u001b[49m\u001b[32;43m16700\u001b[39;49m\u001b[43m)\u001b[49m\u001b[43m)\u001b[49m\n",
      "\u001b[36mFile \u001b[39m\u001b[32m~\\AppData\\Local\\Programs\\Python\\Python313\\Lib\\site-packages\\sklearn\\linear_model\\_base.py:297\u001b[39m, in \u001b[36mLinearModel.predict\u001b[39m\u001b[34m(self, X)\u001b[39m\n\u001b[32m    283\u001b[39m \u001b[38;5;28;01mdef\u001b[39;00m\u001b[38;5;250m \u001b[39m\u001b[34mpredict\u001b[39m(\u001b[38;5;28mself\u001b[39m, X):\n\u001b[32m    284\u001b[39m \u001b[38;5;250m    \u001b[39m\u001b[33;03m\"\"\"\u001b[39;00m\n\u001b[32m    285\u001b[39m \u001b[33;03m    Predict using the linear model.\u001b[39;00m\n\u001b[32m    286\u001b[39m \n\u001b[32m   (...)\u001b[39m\u001b[32m    295\u001b[39m \u001b[33;03m        Returns predicted values.\u001b[39;00m\n\u001b[32m    296\u001b[39m \u001b[33;03m    \"\"\"\u001b[39;00m\n\u001b[32m--> \u001b[39m\u001b[32m297\u001b[39m     \u001b[38;5;28;01mreturn\u001b[39;00m \u001b[38;5;28;43mself\u001b[39;49m\u001b[43m.\u001b[49m\u001b[43m_decision_function\u001b[49m\u001b[43m(\u001b[49m\u001b[43mX\u001b[49m\u001b[43m)\u001b[49m\n",
      "\u001b[36mFile \u001b[39m\u001b[32m~\\AppData\\Local\\Programs\\Python\\Python313\\Lib\\site-packages\\sklearn\\linear_model\\_base.py:276\u001b[39m, in \u001b[36mLinearModel._decision_function\u001b[39m\u001b[34m(self, X)\u001b[39m\n\u001b[32m    273\u001b[39m \u001b[38;5;28;01mdef\u001b[39;00m\u001b[38;5;250m \u001b[39m\u001b[34m_decision_function\u001b[39m(\u001b[38;5;28mself\u001b[39m, X):\n\u001b[32m    274\u001b[39m     check_is_fitted(\u001b[38;5;28mself\u001b[39m)\n\u001b[32m--> \u001b[39m\u001b[32m276\u001b[39m     X = \u001b[43mvalidate_data\u001b[49m\u001b[43m(\u001b[49m\u001b[38;5;28;43mself\u001b[39;49m\u001b[43m,\u001b[49m\u001b[43m \u001b[49m\u001b[43mX\u001b[49m\u001b[43m,\u001b[49m\u001b[43m \u001b[49m\u001b[43maccept_sparse\u001b[49m\u001b[43m=\u001b[49m\u001b[43m[\u001b[49m\u001b[33;43m\"\u001b[39;49m\u001b[33;43mcsr\u001b[39;49m\u001b[33;43m\"\u001b[39;49m\u001b[43m,\u001b[49m\u001b[43m \u001b[49m\u001b[33;43m\"\u001b[39;49m\u001b[33;43mcsc\u001b[39;49m\u001b[33;43m\"\u001b[39;49m\u001b[43m,\u001b[49m\u001b[43m \u001b[49m\u001b[33;43m\"\u001b[39;49m\u001b[33;43mcoo\u001b[39;49m\u001b[33;43m\"\u001b[39;49m\u001b[43m]\u001b[49m\u001b[43m,\u001b[49m\u001b[43m \u001b[49m\u001b[43mreset\u001b[49m\u001b[43m=\u001b[49m\u001b[38;5;28;43;01mFalse\u001b[39;49;00m\u001b[43m)\u001b[49m\n\u001b[32m    277\u001b[39m     coef_ = \u001b[38;5;28mself\u001b[39m.coef_\n\u001b[32m    278\u001b[39m     \u001b[38;5;28;01mif\u001b[39;00m coef_.ndim == \u001b[32m1\u001b[39m:\n",
      "\u001b[36mFile \u001b[39m\u001b[32m~\\AppData\\Local\\Programs\\Python\\Python313\\Lib\\site-packages\\sklearn\\utils\\validation.py:2944\u001b[39m, in \u001b[36mvalidate_data\u001b[39m\u001b[34m(_estimator, X, y, reset, validate_separately, skip_check_array, **check_params)\u001b[39m\n\u001b[32m   2942\u001b[39m         out = X, y\n\u001b[32m   2943\u001b[39m \u001b[38;5;28;01melif\u001b[39;00m \u001b[38;5;129;01mnot\u001b[39;00m no_val_X \u001b[38;5;129;01mand\u001b[39;00m no_val_y:\n\u001b[32m-> \u001b[39m\u001b[32m2944\u001b[39m     out = \u001b[43mcheck_array\u001b[49m\u001b[43m(\u001b[49m\u001b[43mX\u001b[49m\u001b[43m,\u001b[49m\u001b[43m \u001b[49m\u001b[43minput_name\u001b[49m\u001b[43m=\u001b[49m\u001b[33;43m\"\u001b[39;49m\u001b[33;43mX\u001b[39;49m\u001b[33;43m\"\u001b[39;49m\u001b[43m,\u001b[49m\u001b[43m \u001b[49m\u001b[43m*\u001b[49m\u001b[43m*\u001b[49m\u001b[43mcheck_params\u001b[49m\u001b[43m)\u001b[49m\n\u001b[32m   2945\u001b[39m \u001b[38;5;28;01melif\u001b[39;00m no_val_X \u001b[38;5;129;01mand\u001b[39;00m \u001b[38;5;129;01mnot\u001b[39;00m no_val_y:\n\u001b[32m   2946\u001b[39m     out = _check_y(y, **check_params)\n",
      "\u001b[36mFile \u001b[39m\u001b[32m~\\AppData\\Local\\Programs\\Python\\Python313\\Lib\\site-packages\\sklearn\\utils\\validation.py:1070\u001b[39m, in \u001b[36mcheck_array\u001b[39m\u001b[34m(array, accept_sparse, accept_large_sparse, dtype, order, copy, force_writeable, force_all_finite, ensure_all_finite, ensure_non_negative, ensure_2d, allow_nd, ensure_min_samples, ensure_min_features, estimator, input_name)\u001b[39m\n\u001b[32m   1067\u001b[39m \u001b[38;5;28;01mif\u001b[39;00m ensure_2d:\n\u001b[32m   1068\u001b[39m     \u001b[38;5;66;03m# If input is scalar raise error\u001b[39;00m\n\u001b[32m   1069\u001b[39m     \u001b[38;5;28;01mif\u001b[39;00m array.ndim == \u001b[32m0\u001b[39m:\n\u001b[32m-> \u001b[39m\u001b[32m1070\u001b[39m         \u001b[38;5;28;01mraise\u001b[39;00m \u001b[38;5;167;01mValueError\u001b[39;00m(\n\u001b[32m   1071\u001b[39m             \u001b[33m\"\u001b[39m\u001b[33mExpected 2D array, got scalar array instead:\u001b[39m\u001b[38;5;130;01m\\n\u001b[39;00m\u001b[33marray=\u001b[39m\u001b[38;5;132;01m{}\u001b[39;00m\u001b[33m.\u001b[39m\u001b[38;5;130;01m\\n\u001b[39;00m\u001b[33m\"\u001b[39m\n\u001b[32m   1072\u001b[39m             \u001b[33m\"\u001b[39m\u001b[33mReshape your data either using array.reshape(-1, 1) if \u001b[39m\u001b[33m\"\u001b[39m\n\u001b[32m   1073\u001b[39m             \u001b[33m\"\u001b[39m\u001b[33myour data has a single feature or array.reshape(1, -1) \u001b[39m\u001b[33m\"\u001b[39m\n\u001b[32m   1074\u001b[39m             \u001b[33m\"\u001b[39m\u001b[33mif it contains a single sample.\u001b[39m\u001b[33m\"\u001b[39m.format(array)\n\u001b[32m   1075\u001b[39m         )\n\u001b[32m   1076\u001b[39m     \u001b[38;5;66;03m# If input is 1D raise error\u001b[39;00m\n\u001b[32m   1077\u001b[39m     \u001b[38;5;28;01mif\u001b[39;00m array.ndim == \u001b[32m1\u001b[39m:\n\u001b[32m   1078\u001b[39m         \u001b[38;5;66;03m# If input is a Series-like object (eg. pandas Series or polars Series)\u001b[39;00m\n",
      "\u001b[31mValueError\u001b[39m: Expected 2D array, got scalar array instead:\narray=16700.\nReshape your data either using array.reshape(-1, 1) if your data has a single feature or array.reshape(1, -1) if it contains a single sample."
     ]
    }
   ],
   "source": [
    "reg.predict((16700))"
   ]
  },
  {
   "cell_type": "code",
   "execution_count": 54,
   "id": "659b8557-a212-4af0-8c84-22f931396f13",
   "metadata": {},
   "outputs": [
    {
     "name": "stderr",
     "output_type": "stream",
     "text": [
      "C:\\Users\\Asus\\AppData\\Local\\Programs\\Python\\Python313\\Lib\\site-packages\\sklearn\\utils\\validation.py:2739: UserWarning: X does not have valid feature names, but LinearRegression was fitted with feature names\n",
      "  warnings.warn(\n"
     ]
    },
    {
     "data": {
      "text/plain": [
       "array([[16304.0105628]])"
      ]
     },
     "execution_count": 54,
     "metadata": {},
     "output_type": "execute_result"
    }
   ],
   "source": [
    "reg.predict([[16700]])"
   ]
  },
  {
   "cell_type": "code",
   "execution_count": 56,
   "id": "e65ea322-67bf-414f-a912-3c06aafea828",
   "metadata": {},
   "outputs": [
    {
     "data": {
      "text/plain": [
       "Text(0.5, 1.0, 'NASDAQ100 Stock Prices')"
      ]
     },
     "execution_count": 56,
     "metadata": {},
     "output_type": "execute_result"
    },
    {
     "data": {
      "image/png": "[encoded data removed]",
      "text/plain": [
       "<Figure size 640x480 with 1 Axes>"
      ]
     },
     "metadata": {},
     "output_type": "display_data"
    }
   ],
   "source": [
    "plt.plot(x,reg.predict(x))\n",
    "plt.scatter(x.mean(),y.mean(), color=\"red\")\n",
    "plt.scatter(df['Starting (USD)'], df['Ending (USD)'])\n",
    "plt.xlabel('Starting (USD)')\n",
    "plt.ylabel('Ending (USD)')\n",
    "plt.title('NASDAQ100 Stock Prices')"
   ]
  },
  {
   "cell_type": "code",
   "execution_count": null,
   "id": "37cde89e-069f-400f-bb7e-5ff8febdd384",
   "metadata": {},
   "outputs": [],
   "source": []
  }
 ],
 "metadata": {
  "kernelspec": {
   "display_name": "Python 3 (ipykernel)",
   "language": "python",
   "name": "python3"
  },
  "language_info": {
   "codemirror_mode": {
    "name": "ipython",
    "version": 3
   },
   "file_extension": ".py",
   "mimetype": "text/x-python",
   "name": "python",
   "nbconvert_exporter": "python",
   "pygments_lexer": "ipython3",
   "version": "3.13.0"
  }
 },
 "nbformat": 4,
 "nbformat_minor": 5
}
